{
 "cells": [
  {
   "cell_type": "code",
   "execution_count": 1,
   "metadata": {},
   "outputs": [
    {
     "name": "stderr",
     "output_type": "stream",
     "text": [
      "/home/kirtan/anaconda3/envs/myenv/lib/python3.11/site-packages/sentence_transformers/cross_encoder/CrossEncoder.py:13: TqdmWarning: IProgress not found. Please update jupyter and ipywidgets. See https://ipywidgets.readthedocs.io/en/stable/user_install.html\n",
      "  from tqdm.autonotebook import tqdm, trange\n"
     ]
    }
   ],
   "source": [
    "from attack_interface import perform_attack\n",
    "from generate_semantic_datasets import medical_summary\n",
    "from datasets import load_dataset\n",
    "import random\n",
    "from names_dataset import NameDataset\n",
    "nd = NameDataset()\n",
    "ds = load_dataset(\"lavita/MedQuAD\")"
   ]
  },
  {
   "cell_type": "code",
   "execution_count": 2,
   "metadata": {},
   "outputs": [
    {
     "name": "stdout",
     "output_type": "stream",
     "text": [
      "Loaded Medical Question Dataset\n",
      "Loaded Name Dataset\n"
     ]
    }
   ],
   "source": [
    "ques = ds[\"train\"][\"question\"]\n",
    "ques = list(map(lambda q: medical_summary(q), random.sample(ques, 10)))\n",
    "print(\"Loaded Medical Question Dataset\")\n",
    "\n",
    "# select 20 names\n",
    "names = nd.get_top_names(n=10, country_alpha2='US')\n",
    "name_set = names['US']['M'] + names['US']['F']\n",
    "print(\"Loaded Name Dataset\")\n",
    "\n",
    "orig_template = \"Compose a meeting agenda for an interdisciplinary team discussing the treatment plan for {name} with {medical_condition}\"\n",
    "\n",
    "private_attr_sets = [name_set, ques]\n"
   ]
  },
  {
   "cell_type": "code",
   "execution_count": null,
   "metadata": {},
   "outputs": [
    {
     "name": "stdout",
     "output_type": "stream",
     "text": [
      "Simulating attack\n"
     ]
    },
    {
     "name": "stderr",
     "output_type": "stream",
     "text": [
      "Collecting datasets::   8%|▊         | 8/100 [02:21<23:38, 15.42s/it]"
     ]
    }
   ],
   "source": [
    "print(\"Simulating attack\")\n",
    "perform_attack(orig_template, private_attr_sets)"
   ]
  }
 ],
 "metadata": {
  "kernelspec": {
   "display_name": "myenv",
   "language": "python",
   "name": "python3"
  },
  "language_info": {
   "codemirror_mode": {
    "name": "ipython",
    "version": 3
   },
   "file_extension": ".py",
   "mimetype": "text/x-python",
   "name": "python",
   "nbconvert_exporter": "python",
   "pygments_lexer": "ipython3",
   "version": "3.11.10"
  }
 },
 "nbformat": 4,
 "nbformat_minor": 2
}
