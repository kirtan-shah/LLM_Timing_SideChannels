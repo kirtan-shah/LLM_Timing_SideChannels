{
 "cells": [
  {
   "cell_type": "code",
   "execution_count": 1,
   "metadata": {
    "execution": {
     "iopub.execute_input": "2024-12-10T23:36:52.521098Z",
     "iopub.status.busy": "2024-12-10T23:36:52.520845Z",
     "iopub.status.idle": "2024-12-10T23:37:15.114448Z",
     "shell.execute_reply": "2024-12-10T23:37:15.114005Z"
    }
   },
   "outputs": [
    {
     "name": "stderr",
     "output_type": "stream",
     "text": [
      "/home/kirtan/anaconda3/envs/myenv/lib/python3.11/site-packages/sentence_transformers/cross_encoder/CrossEncoder.py:13: TqdmWarning: IProgress not found. Please update jupyter and ipywidgets. See https://ipywidgets.readthedocs.io/en/stable/user_install.html\n",
      "  from tqdm.autonotebook import tqdm, trange\n"
     ]
    }
   ],
   "source": [
    "from attack_interface import perform_attack\n",
    "from generate_semantic_datasets import medical_summary\n",
    "from datasets import load_dataset\n",
    "import random\n",
    "from names_dataset import NameDataset\n",
    "nd = NameDataset()\n",
    "ds = load_dataset(\"lavita/MedQuAD\")"
   ]
  },
  {
   "cell_type": "code",
   "execution_count": 2,
   "metadata": {
    "execution": {
     "iopub.execute_input": "2024-12-10T23:37:15.116298Z",
     "iopub.status.busy": "2024-12-10T23:37:15.115973Z",
     "iopub.status.idle": "2024-12-10T23:37:18.446205Z",
     "shell.execute_reply": "2024-12-10T23:37:18.445825Z"
    }
   },
   "outputs": [
    {
     "name": "stdout",
     "output_type": "stream",
     "text": [
      "Loaded Medical Question Dataset\n"
     ]
    },
    {
     "name": "stdout",
     "output_type": "stream",
     "text": [
      "Loaded Name Dataset\n"
     ]
    }
   ],
   "source": [
    "ques = ds[\"train\"][\"question\"]\n",
    "ques = list(map(lambda q: medical_summary(q), random.sample(ques, 10)))\n",
    "print(\"Loaded Medical Question Dataset\")\n",
    "\n",
    "# select 20 names\n",
    "names = nd.get_top_names(n=10, country_alpha2='US')\n",
    "name_set = names['US']['M'] + names['US']['F']\n",
    "print(\"Loaded Name Dataset\")\n",
    "\n",
    "orig_template = \"Compose a meeting agenda for an interdisciplinary team discussing the treatment plan for {name} with {medical_condition}\"\n",
    "\n",
    "private_attr_sets = [name_set, ques]\n"
   ]
  },
  {
   "cell_type": "code",
   "execution_count": 3,
   "metadata": {
    "execution": {
     "iopub.execute_input": "2024-12-10T23:37:18.448005Z",
     "iopub.status.busy": "2024-12-10T23:37:18.447734Z",
     "iopub.status.idle": "2024-12-10T23:59:00.312612Z",
     "shell.execute_reply": "2024-12-10T23:59:00.312248Z"
    }
   },
   "outputs": [
    {
     "name": "stdout",
     "output_type": "stream",
     "text": [
      "Simulating attack\n"
     ]
    },
    {
     "name": "stderr",
     "output_type": "stream",
     "text": [
      "\r",
      "Collecting datasets::   0%|                                 | 0/100 [00:00<?, ?it/s]"
     ]
    },
    {
     "name": "stderr",
     "output_type": "stream",
     "text": [
      "\r",
      "Collecting datasets::   1%|▎                        | 1/100 [00:05<09:12,  5.59s/it]"
     ]
    },
    {
     "name": "stderr",
     "output_type": "stream",
     "text": [
      "\r",
      "Collecting datasets::   2%|▌                        | 2/100 [00:10<08:34,  5.25s/it]"
     ]
    },
    {
     "name": "stderr",
     "output_type": "stream",
     "text": [
      "\r",
      "Collecting datasets::   3%|▊                        | 3/100 [00:15<08:23,  5.19s/it]"
     ]
    },
    {
     "name": "stderr",
     "output_type": "stream",
     "text": [
      "\r",
      "Collecting datasets::   4%|█                        | 4/100 [00:21<08:46,  5.48s/it]"
     ]
    },
    {
     "name": "stderr",
     "output_type": "stream",
     "text": [
      "\r",
      "Collecting datasets::   5%|█▎                       | 5/100 [00:26<08:09,  5.15s/it]"
     ]
    },
    {
     "name": "stderr",
     "output_type": "stream",
     "text": [
      "\r",
      "Collecting datasets::   6%|█▌                       | 6/100 [00:30<07:22,  4.71s/it]"
     ]
    },
    {
     "name": "stderr",
     "output_type": "stream",
     "text": [
      "\r",
      "Collecting datasets::   7%|█▊                       | 7/100 [00:54<17:21, 11.20s/it]"
     ]
    },
    {
     "name": "stderr",
     "output_type": "stream",
     "text": [
      "\r",
      "Collecting datasets::   8%|██                       | 8/100 [01:14<21:25, 13.98s/it]"
     ]
    },
    {
     "name": "stderr",
     "output_type": "stream",
     "text": [
      "\r",
      "Collecting datasets::   9%|██▎                      | 9/100 [01:34<24:03, 15.86s/it]"
     ]
    },
    {
     "name": "stderr",
     "output_type": "stream",
     "text": [
      "\r",
      "Collecting datasets::  10%|██▍                     | 10/100 [01:38<18:24, 12.27s/it]"
     ]
    },
    {
     "name": "stderr",
     "output_type": "stream",
     "text": [
      "\r",
      "Collecting datasets::  11%|██▋                     | 11/100 [01:44<15:15, 10.29s/it]"
     ]
    },
    {
     "name": "stderr",
     "output_type": "stream",
     "text": [
      "\r",
      "Collecting datasets::  12%|██▉                     | 12/100 [01:49<12:51,  8.77s/it]"
     ]
    },
    {
     "name": "stderr",
     "output_type": "stream",
     "text": [
      "\r",
      "Collecting datasets::  13%|███                     | 13/100 [02:12<18:49, 12.98s/it]"
     ]
    },
    {
     "name": "stderr",
     "output_type": "stream",
     "text": [
      "\r",
      "Collecting datasets::  14%|███▎                    | 14/100 [02:32<21:34, 15.05s/it]"
     ]
    },
    {
     "name": "stderr",
     "output_type": "stream",
     "text": [
      "\r",
      "Collecting datasets::  15%|███▌                    | 15/100 [02:53<23:42, 16.74s/it]"
     ]
    },
    {
     "name": "stderr",
     "output_type": "stream",
     "text": [
      "\r",
      "Collecting datasets::  16%|███▊                    | 16/100 [03:03<20:50, 14.89s/it]"
     ]
    },
    {
     "name": "stderr",
     "output_type": "stream",
     "text": [
      "\r",
      "Collecting datasets::  17%|████                    | 17/100 [03:28<24:51, 17.97s/it]"
     ]
    },
    {
     "name": "stderr",
     "output_type": "stream",
     "text": [
      "\r",
      "Collecting datasets::  18%|████▎                   | 18/100 [03:33<19:15, 14.09s/it]"
     ]
    },
    {
     "name": "stderr",
     "output_type": "stream",
     "text": [
      "\r",
      "Collecting datasets::  19%|████▌                   | 19/100 [03:41<16:19, 12.10s/it]"
     ]
    },
    {
     "name": "stderr",
     "output_type": "stream",
     "text": [
      "\r",
      "Collecting datasets::  20%|████▊                   | 20/100 [04:01<19:24, 14.55s/it]"
     ]
    },
    {
     "name": "stderr",
     "output_type": "stream",
     "text": [
      "\r",
      "Collecting datasets::  21%|█████                   | 21/100 [04:09<16:38, 12.64s/it]"
     ]
    },
    {
     "name": "stderr",
     "output_type": "stream",
     "text": [
      "\r",
      "Collecting datasets::  22%|█████▎                  | 22/100 [04:17<14:26, 11.11s/it]"
     ]
    },
    {
     "name": "stderr",
     "output_type": "stream",
     "text": [
      "\r",
      "Collecting datasets::  23%|█████▌                  | 23/100 [04:21<11:40,  9.10s/it]"
     ]
    },
    {
     "name": "stderr",
     "output_type": "stream",
     "text": [
      "\r",
      "Collecting datasets::  24%|█████▊                  | 24/100 [04:32<12:21,  9.76s/it]"
     ]
    },
    {
     "name": "stderr",
     "output_type": "stream",
     "text": [
      "\r",
      "Collecting datasets::  25%|██████                  | 25/100 [04:55<16:55, 13.55s/it]"
     ]
    },
    {
     "name": "stderr",
     "output_type": "stream",
     "text": [
      "\r",
      "Collecting datasets::  26%|██████▏                 | 26/100 [05:01<14:07, 11.46s/it]"
     ]
    },
    {
     "name": "stderr",
     "output_type": "stream",
     "text": [
      "\r",
      "Collecting datasets::  27%|██████▍                 | 27/100 [05:03<10:15,  8.43s/it]"
     ]
    },
    {
     "name": "stderr",
     "output_type": "stream",
     "text": [
      "\r",
      "Collecting datasets::  28%|██████▋                 | 28/100 [05:07<08:39,  7.22s/it]"
     ]
    },
    {
     "name": "stderr",
     "output_type": "stream",
     "text": [
      "\r",
      "Collecting datasets::  29%|██████▉                 | 29/100 [05:19<10:14,  8.65s/it]"
     ]
    },
    {
     "name": "stderr",
     "output_type": "stream",
     "text": [
      "\r",
      "Collecting datasets::  30%|███████▏                | 30/100 [05:41<14:35, 12.51s/it]"
     ]
    },
    {
     "name": "stderr",
     "output_type": "stream",
     "text": [
      "\r",
      "Collecting datasets::  31%|███████▍                | 31/100 [06:05<18:17, 15.91s/it]"
     ]
    },
    {
     "name": "stderr",
     "output_type": "stream",
     "text": [
      "\r",
      "Collecting datasets::  32%|███████▋                | 32/100 [06:28<20:37, 18.21s/it]"
     ]
    },
    {
     "name": "stderr",
     "output_type": "stream",
     "text": [
      "\r",
      "Collecting datasets::  33%|███████▉                | 33/100 [06:53<22:30, 20.16s/it]"
     ]
    },
    {
     "name": "stderr",
     "output_type": "stream",
     "text": [
      "\r",
      "Collecting datasets::  34%|████████▏               | 34/100 [07:16<23:14, 21.13s/it]"
     ]
    },
    {
     "name": "stderr",
     "output_type": "stream",
     "text": [
      "\r",
      "Collecting datasets::  35%|████████▍               | 35/100 [07:36<22:36, 20.87s/it]"
     ]
    },
    {
     "name": "stderr",
     "output_type": "stream",
     "text": [
      "\r",
      "Collecting datasets::  36%|████████▋               | 36/100 [07:57<22:05, 20.71s/it]"
     ]
    },
    {
     "name": "stderr",
     "output_type": "stream",
     "text": [
      "\r",
      "Collecting datasets::  37%|████████▉               | 37/100 [08:19<22:12, 21.15s/it]"
     ]
    },
    {
     "name": "stderr",
     "output_type": "stream",
     "text": [
      "\r",
      "Collecting datasets::  38%|█████████               | 38/100 [08:24<16:41, 16.16s/it]"
     ]
    },
    {
     "name": "stderr",
     "output_type": "stream",
     "text": [
      "\r",
      "Collecting datasets::  39%|█████████▎              | 39/100 [08:28<12:57, 12.75s/it]"
     ]
    },
    {
     "name": "stderr",
     "output_type": "stream",
     "text": [
      "\r",
      "Collecting datasets::  40%|█████████▌              | 40/100 [08:38<11:57, 11.96s/it]"
     ]
    },
    {
     "name": "stderr",
     "output_type": "stream",
     "text": [
      "\r",
      "Collecting datasets::  41%|█████████▊              | 41/100 [08:44<09:44,  9.90s/it]"
     ]
    },
    {
     "name": "stderr",
     "output_type": "stream",
     "text": [
      "\r",
      "Collecting datasets::  42%|██████████              | 42/100 [09:06<13:15, 13.72s/it]"
     ]
    },
    {
     "name": "stderr",
     "output_type": "stream",
     "text": [
      "\r",
      "Collecting datasets::  43%|██████████▎             | 43/100 [09:28<15:24, 16.21s/it]"
     ]
    },
    {
     "name": "stderr",
     "output_type": "stream",
     "text": [
      "\r",
      "Collecting datasets::  44%|██████████▌             | 44/100 [09:34<12:17, 13.16s/it]"
     ]
    },
    {
     "name": "stderr",
     "output_type": "stream",
     "text": [
      "\r",
      "Collecting datasets::  45%|██████████▊             | 45/100 [09:55<14:03, 15.34s/it]"
     ]
    },
    {
     "name": "stderr",
     "output_type": "stream",
     "text": [
      "\r",
      "Collecting datasets::  46%|███████████             | 46/100 [10:03<11:50, 13.16s/it]"
     ]
    },
    {
     "name": "stderr",
     "output_type": "stream",
     "text": [
      "\r",
      "Collecting datasets::  47%|███████████▎            | 47/100 [10:24<13:53, 15.74s/it]"
     ]
    },
    {
     "name": "stderr",
     "output_type": "stream",
     "text": [
      "\r",
      "Collecting datasets::  48%|███████████▌            | 48/100 [10:38<13:02, 15.04s/it]"
     ]
    },
    {
     "name": "stderr",
     "output_type": "stream",
     "text": [
      "\r",
      "Collecting datasets::  49%|███████████▊            | 49/100 [10:42<09:59, 11.76s/it]"
     ]
    },
    {
     "name": "stderr",
     "output_type": "stream",
     "text": [
      "\r",
      "Collecting datasets::  50%|████████████            | 50/100 [10:49<08:40, 10.40s/it]"
     ]
    },
    {
     "name": "stderr",
     "output_type": "stream",
     "text": [
      "\r",
      "Collecting datasets::  51%|████████████▏           | 51/100 [11:13<11:52, 14.53s/it]"
     ]
    },
    {
     "name": "stderr",
     "output_type": "stream",
     "text": [
      "\r",
      "Collecting datasets::  52%|████████████▍           | 52/100 [11:34<13:08, 16.42s/it]"
     ]
    },
    {
     "name": "stderr",
     "output_type": "stream",
     "text": [
      "\r",
      "Collecting datasets::  53%|████████████▋           | 53/100 [11:37<09:39, 12.32s/it]"
     ]
    },
    {
     "name": "stderr",
     "output_type": "stream",
     "text": [
      "\r",
      "Collecting datasets::  54%|████████████▉           | 54/100 [11:42<07:47, 10.16s/it]"
     ]
    },
    {
     "name": "stderr",
     "output_type": "stream",
     "text": [
      "\r",
      "Collecting datasets::  55%|█████████████▏          | 55/100 [11:54<08:00, 10.68s/it]"
     ]
    },
    {
     "name": "stderr",
     "output_type": "stream",
     "text": [
      "\r",
      "Collecting datasets::  56%|█████████████▍          | 56/100 [11:59<06:29,  8.84s/it]"
     ]
    },
    {
     "name": "stderr",
     "output_type": "stream",
     "text": [
      "\r",
      "Collecting datasets::  57%|█████████████▋          | 57/100 [12:21<09:13, 12.88s/it]"
     ]
    },
    {
     "name": "stderr",
     "output_type": "stream",
     "text": [
      "\r",
      "Collecting datasets::  58%|█████████████▉          | 58/100 [12:26<07:21, 10.50s/it]"
     ]
    },
    {
     "name": "stderr",
     "output_type": "stream",
     "text": [
      "\r",
      "Collecting datasets::  59%|██████████████▏         | 59/100 [12:49<09:45, 14.28s/it]"
     ]
    },
    {
     "name": "stderr",
     "output_type": "stream",
     "text": [
      "\r",
      "Collecting datasets::  60%|██████████████▍         | 60/100 [12:55<07:50, 11.77s/it]"
     ]
    },
    {
     "name": "stderr",
     "output_type": "stream",
     "text": [
      "\r",
      "Collecting datasets::  61%|██████████████▋         | 61/100 [13:21<10:27, 16.10s/it]"
     ]
    },
    {
     "name": "stderr",
     "output_type": "stream",
     "text": [
      "\r",
      "Collecting datasets::  62%|██████████████▉         | 62/100 [13:43<11:17, 17.82s/it]"
     ]
    },
    {
     "name": "stderr",
     "output_type": "stream",
     "text": [
      "\r",
      "Collecting datasets::  63%|███████████████         | 63/100 [13:52<09:18, 15.10s/it]"
     ]
    },
    {
     "name": "stderr",
     "output_type": "stream",
     "text": [
      "\r",
      "Collecting datasets::  64%|███████████████▎        | 64/100 [14:07<09:05, 15.15s/it]"
     ]
    },
    {
     "name": "stderr",
     "output_type": "stream",
     "text": [
      "\r",
      "Collecting datasets::  65%|███████████████▌        | 65/100 [14:11<06:53, 11.81s/it]"
     ]
    },
    {
     "name": "stderr",
     "output_type": "stream",
     "text": [
      "\r",
      "Collecting datasets::  66%|███████████████▊        | 66/100 [14:31<08:03, 14.21s/it]"
     ]
    },
    {
     "name": "stderr",
     "output_type": "stream",
     "text": [
      "\r",
      "Collecting datasets::  67%|████████████████        | 67/100 [14:51<08:52, 16.14s/it]"
     ]
    },
    {
     "name": "stderr",
     "output_type": "stream",
     "text": [
      "\r",
      "Collecting datasets::  68%|████████████████▎       | 68/100 [15:13<09:26, 17.72s/it]"
     ]
    },
    {
     "name": "stderr",
     "output_type": "stream",
     "text": [
      "\r",
      "Collecting datasets::  69%|████████████████▌       | 69/100 [15:17<07:03, 13.65s/it]"
     ]
    },
    {
     "name": "stderr",
     "output_type": "stream",
     "text": [
      "\r",
      "Collecting datasets::  70%|████████████████▊       | 70/100 [15:40<08:11, 16.40s/it]"
     ]
    },
    {
     "name": "stderr",
     "output_type": "stream",
     "text": [
      "\r",
      "Collecting datasets::  71%|█████████████████       | 71/100 [15:43<05:57, 12.32s/it]"
     ]
    },
    {
     "name": "stderr",
     "output_type": "stream",
     "text": [
      "\r",
      "Collecting datasets::  72%|█████████████████▎      | 72/100 [16:03<06:57, 14.91s/it]"
     ]
    },
    {
     "name": "stderr",
     "output_type": "stream",
     "text": [
      "\r",
      "Collecting datasets::  73%|█████████████████▌      | 73/100 [16:06<05:01, 11.17s/it]"
     ]
    },
    {
     "name": "stderr",
     "output_type": "stream",
     "text": [
      "\r",
      "Collecting datasets::  74%|█████████████████▊      | 74/100 [16:28<06:12, 14.32s/it]"
     ]
    },
    {
     "name": "stderr",
     "output_type": "stream",
     "text": [
      "\r",
      "Collecting datasets::  75%|██████████████████      | 75/100 [16:52<07:15, 17.41s/it]"
     ]
    },
    {
     "name": "stderr",
     "output_type": "stream",
     "text": [
      "\r",
      "Collecting datasets::  76%|██████████████████▏     | 76/100 [16:56<05:22, 13.45s/it]"
     ]
    },
    {
     "name": "stderr",
     "output_type": "stream",
     "text": [
      "\r",
      "Collecting datasets::  77%|██████████████████▍     | 77/100 [17:17<06:01, 15.73s/it]"
     ]
    },
    {
     "name": "stderr",
     "output_type": "stream",
     "text": [
      "\r",
      "Collecting datasets::  78%|██████████████████▋     | 78/100 [17:23<04:35, 12.54s/it]"
     ]
    },
    {
     "name": "stderr",
     "output_type": "stream",
     "text": [
      "\r",
      "Collecting datasets::  79%|██████████████████▉     | 79/100 [17:27<03:33, 10.18s/it]"
     ]
    },
    {
     "name": "stderr",
     "output_type": "stream",
     "text": [
      "\r",
      "Collecting datasets::  80%|███████████████████▏    | 80/100 [17:50<04:37, 13.89s/it]"
     ]
    },
    {
     "name": "stderr",
     "output_type": "stream",
     "text": [
      "\r",
      "Collecting datasets::  81%|███████████████████▍    | 81/100 [18:10<05:01, 15.85s/it]"
     ]
    },
    {
     "name": "stderr",
     "output_type": "stream",
     "text": [
      "\r",
      "Collecting datasets::  82%|███████████████████▋    | 82/100 [18:31<05:11, 17.28s/it]"
     ]
    },
    {
     "name": "stderr",
     "output_type": "stream",
     "text": [
      "\r",
      "Collecting datasets::  83%|███████████████████▉    | 83/100 [18:35<03:49, 13.48s/it]"
     ]
    },
    {
     "name": "stderr",
     "output_type": "stream",
     "text": [
      "\r",
      "Collecting datasets::  84%|████████████████████▏   | 84/100 [18:40<02:53, 10.87s/it]"
     ]
    },
    {
     "name": "stderr",
     "output_type": "stream",
     "text": [
      "\r",
      "Collecting datasets::  85%|████████████████████▍   | 85/100 [19:01<03:27, 13.84s/it]"
     ]
    },
    {
     "name": "stderr",
     "output_type": "stream",
     "text": [
      "\r",
      "Collecting datasets::  86%|████████████████████▋   | 86/100 [19:22<03:45, 16.13s/it]"
     ]
    },
    {
     "name": "stderr",
     "output_type": "stream",
     "text": [
      "\r",
      "Collecting datasets::  87%|████████████████████▉   | 87/100 [19:29<02:53, 13.38s/it]"
     ]
    },
    {
     "name": "stderr",
     "output_type": "stream",
     "text": [
      "\r",
      "Collecting datasets::  88%|█████████████████████   | 88/100 [19:34<02:07, 10.66s/it]"
     ]
    },
    {
     "name": "stderr",
     "output_type": "stream",
     "text": [
      "\r",
      "Collecting datasets::  89%|█████████████████████▎  | 89/100 [19:38<01:37,  8.89s/it]"
     ]
    },
    {
     "name": "stderr",
     "output_type": "stream",
     "text": [
      "\r",
      "Collecting datasets::  90%|█████████████████████▌  | 90/100 [19:47<01:29,  8.91s/it]"
     ]
    },
    {
     "name": "stderr",
     "output_type": "stream",
     "text": [
      "\r",
      "Collecting datasets::  91%|█████████████████████▊  | 91/100 [19:53<01:11,  7.97s/it]"
     ]
    },
    {
     "name": "stderr",
     "output_type": "stream",
     "text": [
      "\r",
      "Collecting datasets::  92%|██████████████████████  | 92/100 [19:58<00:55,  6.94s/it]"
     ]
    },
    {
     "name": "stderr",
     "output_type": "stream",
     "text": [
      "\r",
      "Collecting datasets::  93%|██████████████████████▎ | 93/100 [20:21<01:22, 11.78s/it]"
     ]
    },
    {
     "name": "stderr",
     "output_type": "stream",
     "text": [
      "\r",
      "Collecting datasets::  94%|██████████████████████▌ | 94/100 [20:44<01:30, 15.13s/it]"
     ]
    },
    {
     "name": "stderr",
     "output_type": "stream",
     "text": [
      "\r",
      "Collecting datasets::  95%|██████████████████████▊ | 95/100 [20:48<00:59, 11.82s/it]"
     ]
    },
    {
     "name": "stderr",
     "output_type": "stream",
     "text": [
      "\r",
      "Collecting datasets::  96%|███████████████████████ | 96/100 [20:59<00:46, 11.61s/it]"
     ]
    },
    {
     "name": "stderr",
     "output_type": "stream",
     "text": [
      "\r",
      "Collecting datasets::  97%|███████████████████████▎| 97/100 [21:04<00:28,  9.49s/it]"
     ]
    },
    {
     "name": "stderr",
     "output_type": "stream",
     "text": [
      "\r",
      "Collecting datasets::  98%|███████████████████████▌| 98/100 [21:15<00:20, 10.05s/it]"
     ]
    },
    {
     "name": "stderr",
     "output_type": "stream",
     "text": [
      "\r",
      "Collecting datasets::  99%|███████████████████████▊| 99/100 [21:18<00:08,  8.02s/it]"
     ]
    },
    {
     "name": "stderr",
     "output_type": "stream",
     "text": [
      "\r",
      "Collecting datasets:: 100%|███████████████████████| 100/100 [21:41<00:00, 12.57s/it]"
     ]
    },
    {
     "name": "stderr",
     "output_type": "stream",
     "text": [
      "\r",
      "Collecting datasets:: 100%|███████████████████████| 100/100 [21:41<00:00, 13.02s/it]"
     ]
    },
    {
     "name": "stderr",
     "output_type": "stream",
     "text": [
      "\n"
     ]
    }
   ],
   "source": [
    "print(\"Simulating attack\")\n",
    "perform_attack(orig_template, private_attr_sets)"
   ]
  }
 ],
 "metadata": {
  "kernelspec": {
   "display_name": "myenv",
   "language": "python",
   "name": "python3"
  },
  "language_info": {
   "codemirror_mode": {
    "name": "ipython",
    "version": 3
   },
   "file_extension": ".py",
   "mimetype": "text/x-python",
   "name": "python",
   "nbconvert_exporter": "python",
   "pygments_lexer": "ipython3",
   "version": "3.11.10"
  }
 },
 "nbformat": 4,
 "nbformat_minor": 2
}
