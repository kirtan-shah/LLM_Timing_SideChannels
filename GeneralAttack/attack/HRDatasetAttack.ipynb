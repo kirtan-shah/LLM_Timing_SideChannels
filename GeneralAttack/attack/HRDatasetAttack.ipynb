{
 "cells": [
  {
   "cell_type": "code",
   "execution_count": 1,
   "metadata": {},
   "outputs": [
    {
     "name": "stderr",
     "output_type": "stream",
     "text": [
      "/home/kirtan/anaconda3/envs/myenv/lib/python3.11/site-packages/sentence_transformers/cross_encoder/CrossEncoder.py:13: TqdmWarning: IProgress not found. Please update jupyter and ipywidgets. See https://ipywidgets.readthedocs.io/en/stable/user_install.html\n",
      "  from tqdm.autonotebook import tqdm, trange\n"
     ]
    }
   ],
   "source": [
    "from attack_interface import perform_attack\n",
    "from generate_semantic_datasets import medical_summary\n",
    "from datasets import load_dataset\n",
    "import random\n",
    "from names_dataset import NameDataset\n",
    "import pandas as pd\n",
    "nd = NameDataset()\n",
    "hr_ds = pd.read_csv(\"../HRDataset_v14.csv\")"
   ]
  },
  {
   "cell_type": "code",
   "execution_count": null,
   "metadata": {},
   "outputs": [],
   "source": [
    "salaries = hr_ds['Salary'].values.tolist()\n",
    "\n",
    "# select 20 names\n",
    "names = nd.get_top_names(n=10, country_alpha2='US')\n",
    "name_set = names['US']['M'] + names['US']['F']\n",
    "\n",
    "orig_template = \"Generate a compensation report for employee {name} with base pay {salary}\"\n",
    "\n",
    "private_attr_sets = [name_set, salaries]\n"
   ]
  },
  {
   "cell_type": "code",
   "execution_count": null,
   "metadata": {},
   "outputs": [],
   "source": [
    "perform_attack(orig_template, private_attr_sets)"
   ]
  }
 ],
 "metadata": {
  "kernelspec": {
   "display_name": "myenv",
   "language": "python",
   "name": "python3"
  },
  "language_info": {
   "codemirror_mode": {
    "name": "ipython",
    "version": 3
   },
   "file_extension": ".py",
   "mimetype": "text/x-python",
   "name": "python",
   "nbconvert_exporter": "python",
   "pygments_lexer": "ipython3",
   "version": "3.11.10"
  }
 },
 "nbformat": 4,
 "nbformat_minor": 2
}
