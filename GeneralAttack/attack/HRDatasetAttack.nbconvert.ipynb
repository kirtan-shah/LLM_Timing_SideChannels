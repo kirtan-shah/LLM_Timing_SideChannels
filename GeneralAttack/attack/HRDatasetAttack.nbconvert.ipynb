{
 "cells": [
  {
   "cell_type": "code",
   "execution_count": 1,
   "metadata": {
    "execution": {
     "iopub.execute_input": "2024-12-11T00:54:58.411056Z",
     "iopub.status.busy": "2024-12-11T00:54:58.410955Z",
     "iopub.status.idle": "2024-12-11T00:55:16.890609Z",
     "shell.execute_reply": "2024-12-11T00:55:16.890180Z"
    }
   },
   "outputs": [
    {
     "name": "stderr",
     "output_type": "stream",
     "text": [
      "/home/kirtan/anaconda3/envs/myenv/lib/python3.11/site-packages/sentence_transformers/cross_encoder/CrossEncoder.py:13: TqdmWarning: IProgress not found. Please update jupyter and ipywidgets. See https://ipywidgets.readthedocs.io/en/stable/user_install.html\n",
      "  from tqdm.autonotebook import tqdm, trange\n"
     ]
    }
   ],
   "source": [
    "from attack_interface import perform_attack\n",
    "from generate_semantic_datasets import medical_summary\n",
    "from datasets import load_dataset\n",
    "import random\n",
    "from names_dataset import NameDataset\n",
    "import pandas as pd\n",
    "nd = NameDataset()\n",
    "hr_ds = pd.read_csv(\"../HRDataset_v14.csv\")"
   ]
  },
  {
   "cell_type": "code",
   "execution_count": 2,
   "metadata": {
    "execution": {
     "iopub.execute_input": "2024-12-11T00:55:16.892449Z",
     "iopub.status.busy": "2024-12-11T00:55:16.892314Z",
     "iopub.status.idle": "2024-12-11T00:55:17.125142Z",
     "shell.execute_reply": "2024-12-11T00:55:17.124411Z"
    }
   },
   "outputs": [],
   "source": [
    "salaries = hr_ds['Salary'].values.tolist()\n",
    "\n",
    "# select 20 names\n",
    "names = nd.get_top_names(n=10, country_alpha2='US')\n",
    "name_set = names['US']['M'] + names['US']['F']\n",
    "\n",
    "orig_template = \"Generate a compensation report for employee {name} with base pay {salary}\"\n",
    "\n",
    "private_attr_sets = [name_set, salaries]\n"
   ]
  },
  {
   "cell_type": "code",
   "execution_count": 3,
   "metadata": {
    "execution": {
     "iopub.execute_input": "2024-12-11T00:55:17.126974Z",
     "iopub.status.busy": "2024-12-11T00:55:17.126823Z",
     "iopub.status.idle": "2024-12-11T01:19:47.605052Z",
     "shell.execute_reply": "2024-12-11T01:19:47.601210Z"
    }
   },
   "outputs": [
    {
     "name": "stderr",
     "output_type": "stream",
     "text": [
      "\r",
      "Collecting datasets::   0%|                                 | 0/100 [00:00<?, ?it/s]"
     ]
    },
    {
     "name": "stderr",
     "output_type": "stream",
     "text": [
      "\r",
      "Collecting datasets::   1%|▎                        | 1/100 [00:07<11:53,  7.21s/it]"
     ]
    },
    {
     "name": "stderr",
     "output_type": "stream",
     "text": [
      "\r",
      "Collecting datasets::   2%|▌                        | 2/100 [00:26<23:27, 14.36s/it]"
     ]
    },
    {
     "name": "stderr",
     "output_type": "stream",
     "text": [
      "\r",
      "Collecting datasets::   3%|▊                        | 3/100 [00:44<26:00, 16.09s/it]"
     ]
    },
    {
     "name": "stderr",
     "output_type": "stream",
     "text": [
      "\r",
      "Collecting datasets::   4%|█                        | 4/100 [01:01<26:03, 16.29s/it]"
     ]
    },
    {
     "name": "stderr",
     "output_type": "stream",
     "text": [
      "\r",
      "Collecting datasets::   5%|█▎                       | 5/100 [01:14<24:12, 15.29s/it]"
     ]
    },
    {
     "name": "stderr",
     "output_type": "stream",
     "text": [
      "\r",
      "Collecting datasets::   6%|█▌                       | 6/100 [01:31<24:52, 15.88s/it]"
     ]
    },
    {
     "name": "stderr",
     "output_type": "stream",
     "text": [
      "\r",
      "Collecting datasets::   7%|█▊                       | 7/100 [01:50<25:47, 16.64s/it]"
     ]
    },
    {
     "name": "stderr",
     "output_type": "stream",
     "text": [
      "\r",
      "Collecting datasets::   8%|██                       | 8/100 [02:06<25:27, 16.60s/it]"
     ]
    },
    {
     "name": "stderr",
     "output_type": "stream",
     "text": [
      "\r",
      "Collecting datasets::   9%|██▎                      | 9/100 [02:23<25:23, 16.74s/it]"
     ]
    },
    {
     "name": "stderr",
     "output_type": "stream",
     "text": [
      "\r",
      "Collecting datasets::  10%|██▍                     | 10/100 [02:42<25:54, 17.28s/it]"
     ]
    },
    {
     "name": "stderr",
     "output_type": "stream",
     "text": [
      "\r",
      "Collecting datasets::  11%|██▋                     | 11/100 [02:58<25:06, 16.93s/it]"
     ]
    },
    {
     "name": "stderr",
     "output_type": "stream",
     "text": [
      "\r",
      "Collecting datasets::  12%|██▉                     | 12/100 [03:16<25:22, 17.30s/it]"
     ]
    },
    {
     "name": "stderr",
     "output_type": "stream",
     "text": [
      "\r",
      "Collecting datasets::  13%|███                     | 13/100 [03:24<21:04, 14.54s/it]"
     ]
    },
    {
     "name": "stderr",
     "output_type": "stream",
     "text": [
      "\r",
      "Collecting datasets::  14%|███▎                    | 14/100 [03:44<22:58, 16.03s/it]"
     ]
    },
    {
     "name": "stderr",
     "output_type": "stream",
     "text": [
      "\r",
      "Collecting datasets::  15%|███▌                    | 15/100 [03:45<16:35, 11.71s/it]"
     ]
    },
    {
     "name": "stderr",
     "output_type": "stream",
     "text": [
      "\r",
      "Collecting datasets::  16%|███▊                    | 16/100 [04:04<19:24, 13.86s/it]"
     ]
    },
    {
     "name": "stderr",
     "output_type": "stream",
     "text": [
      "\r",
      "Collecting datasets::  17%|████                    | 17/100 [04:22<20:52, 15.09s/it]"
     ]
    },
    {
     "name": "stderr",
     "output_type": "stream",
     "text": [
      "\r",
      "Collecting datasets::  18%|████▎                   | 18/100 [04:40<21:55, 16.04s/it]"
     ]
    },
    {
     "name": "stderr",
     "output_type": "stream",
     "text": [
      "\r",
      "Collecting datasets::  19%|████▌                   | 19/100 [05:03<24:24, 18.08s/it]"
     ]
    },
    {
     "name": "stderr",
     "output_type": "stream",
     "text": [
      "\r",
      "Collecting datasets::  20%|████▊                   | 20/100 [05:23<24:49, 18.62s/it]"
     ]
    },
    {
     "name": "stderr",
     "output_type": "stream",
     "text": [
      "\r",
      "Collecting datasets::  21%|█████                   | 21/100 [05:38<23:00, 17.48s/it]"
     ]
    },
    {
     "name": "stderr",
     "output_type": "stream",
     "text": [
      "\r",
      "Collecting datasets::  22%|█████▎                  | 22/100 [05:57<23:29, 18.08s/it]"
     ]
    },
    {
     "name": "stderr",
     "output_type": "stream",
     "text": [
      "\r",
      "Collecting datasets::  23%|█████▌                  | 23/100 [06:13<22:13, 17.32s/it]"
     ]
    },
    {
     "name": "stderr",
     "output_type": "stream",
     "text": [
      "\r",
      "Collecting datasets::  24%|█████▊                  | 24/100 [06:20<17:58, 14.19s/it]"
     ]
    },
    {
     "name": "stderr",
     "output_type": "stream",
     "text": [
      "\r",
      "Collecting datasets::  25%|██████                  | 25/100 [06:28<15:35, 12.47s/it]"
     ]
    },
    {
     "name": "stderr",
     "output_type": "stream",
     "text": [
      "\r",
      "Collecting datasets::  26%|██████▏                 | 26/100 [06:44<16:43, 13.55s/it]"
     ]
    },
    {
     "name": "stderr",
     "output_type": "stream",
     "text": [
      "\r",
      "Collecting datasets::  27%|██████▍                 | 27/100 [07:04<18:50, 15.49s/it]"
     ]
    },
    {
     "name": "stderr",
     "output_type": "stream",
     "text": [
      "\r",
      "Collecting datasets::  28%|██████▋                 | 28/100 [07:25<20:24, 17.01s/it]"
     ]
    },
    {
     "name": "stderr",
     "output_type": "stream",
     "text": [
      "\r",
      "Collecting datasets::  29%|██████▉                 | 29/100 [07:46<21:34, 18.23s/it]"
     ]
    },
    {
     "name": "stderr",
     "output_type": "stream",
     "text": [
      "\r",
      "Collecting datasets::  30%|███████▏                | 30/100 [08:02<20:37, 17.68s/it]"
     ]
    },
    {
     "name": "stderr",
     "output_type": "stream",
     "text": [
      "\r",
      "Collecting datasets::  31%|███████▍                | 31/100 [08:19<19:59, 17.39s/it]"
     ]
    },
    {
     "name": "stderr",
     "output_type": "stream",
     "text": [
      "\r",
      "Collecting datasets::  32%|███████▋                | 32/100 [08:39<20:35, 18.17s/it]"
     ]
    },
    {
     "name": "stderr",
     "output_type": "stream",
     "text": [
      "\r",
      "Collecting datasets::  33%|███████▉                | 33/100 [08:41<14:53, 13.34s/it]"
     ]
    },
    {
     "name": "stderr",
     "output_type": "stream",
     "text": [
      "\r",
      "Collecting datasets::  34%|████████▏               | 34/100 [09:00<16:25, 14.94s/it]"
     ]
    },
    {
     "name": "stderr",
     "output_type": "stream",
     "text": [
      "\r",
      "Collecting datasets::  35%|████████▍               | 35/100 [09:17<16:47, 15.49s/it]"
     ]
    },
    {
     "name": "stderr",
     "output_type": "stream",
     "text": [
      "\r",
      "Collecting datasets::  36%|████████▋               | 36/100 [09:20<12:38, 11.86s/it]"
     ]
    },
    {
     "name": "stderr",
     "output_type": "stream",
     "text": [
      "\r",
      "Collecting datasets::  37%|████████▉               | 37/100 [09:23<09:42,  9.24s/it]"
     ]
    },
    {
     "name": "stderr",
     "output_type": "stream",
     "text": [
      "\r",
      "Collecting datasets::  38%|█████████               | 38/100 [09:28<08:03,  7.81s/it]"
     ]
    },
    {
     "name": "stderr",
     "output_type": "stream",
     "text": [
      "\r",
      "Collecting datasets::  39%|█████████▎              | 39/100 [09:49<11:59, 11.80s/it]"
     ]
    },
    {
     "name": "stderr",
     "output_type": "stream",
     "text": [
      "\r",
      "Collecting datasets::  40%|█████████▌              | 40/100 [09:55<10:09, 10.16s/it]"
     ]
    },
    {
     "name": "stderr",
     "output_type": "stream",
     "text": [
      "\r",
      "Collecting datasets::  41%|█████████▊              | 41/100 [10:16<13:15, 13.49s/it]"
     ]
    },
    {
     "name": "stderr",
     "output_type": "stream",
     "text": [
      "\r",
      "Collecting datasets::  42%|██████████              | 42/100 [10:34<14:15, 14.76s/it]"
     ]
    },
    {
     "name": "stderr",
     "output_type": "stream",
     "text": [
      "\r",
      "Collecting datasets::  43%|██████████▎             | 43/100 [10:50<14:20, 15.10s/it]"
     ]
    },
    {
     "name": "stderr",
     "output_type": "stream",
     "text": [
      "\r",
      "Collecting datasets::  44%|██████████▌             | 44/100 [10:55<11:10, 11.97s/it]"
     ]
    },
    {
     "name": "stderr",
     "output_type": "stream",
     "text": [
      "\r",
      "Collecting datasets::  45%|██████████▊             | 45/100 [11:13<12:51, 14.02s/it]"
     ]
    },
    {
     "name": "stderr",
     "output_type": "stream",
     "text": [
      "\r",
      "Collecting datasets::  46%|███████████             | 46/100 [11:19<10:17, 11.43s/it]"
     ]
    },
    {
     "name": "stderr",
     "output_type": "stream",
     "text": [
      "\r",
      "Collecting datasets::  47%|███████████▎            | 47/100 [11:37<11:50, 13.41s/it]"
     ]
    },
    {
     "name": "stderr",
     "output_type": "stream",
     "text": [
      "\r",
      "Collecting datasets::  48%|███████████▌            | 48/100 [11:54<12:44, 14.70s/it]"
     ]
    },
    {
     "name": "stderr",
     "output_type": "stream",
     "text": [
      "\r",
      "Collecting datasets::  49%|███████████▊            | 49/100 [11:56<09:10, 10.79s/it]"
     ]
    },
    {
     "name": "stderr",
     "output_type": "stream",
     "text": [
      "\r",
      "Collecting datasets::  50%|████████████            | 50/100 [12:11<10:06, 12.12s/it]"
     ]
    },
    {
     "name": "stderr",
     "output_type": "stream",
     "text": [
      "\r",
      "Collecting datasets::  51%|████████████▏           | 51/100 [12:30<11:28, 14.05s/it]"
     ]
    },
    {
     "name": "stderr",
     "output_type": "stream",
     "text": [
      "\r",
      "Collecting datasets::  52%|████████████▍           | 52/100 [12:44<11:19, 14.16s/it]"
     ]
    },
    {
     "name": "stderr",
     "output_type": "stream",
     "text": [
      "\r",
      "Collecting datasets::  53%|████████████▋           | 53/100 [12:58<11:02, 14.09s/it]"
     ]
    },
    {
     "name": "stderr",
     "output_type": "stream",
     "text": [
      "\r",
      "Collecting datasets::  54%|████████████▉           | 54/100 [13:04<08:58, 11.71s/it]"
     ]
    },
    {
     "name": "stderr",
     "output_type": "stream",
     "text": [
      "\r",
      "Collecting datasets::  55%|█████████████▏          | 55/100 [13:23<10:25, 13.89s/it]"
     ]
    },
    {
     "name": "stderr",
     "output_type": "stream",
     "text": [
      "\r",
      "Collecting datasets::  56%|█████████████▍          | 56/100 [13:27<07:50, 10.70s/it]"
     ]
    },
    {
     "name": "stderr",
     "output_type": "stream",
     "text": [
      "\r",
      "Collecting datasets::  57%|█████████████▋          | 57/100 [13:43<08:46, 12.25s/it]"
     ]
    },
    {
     "name": "stderr",
     "output_type": "stream",
     "text": [
      "\r",
      "Collecting datasets::  58%|█████████████▉          | 58/100 [14:03<10:16, 14.68s/it]"
     ]
    },
    {
     "name": "stderr",
     "output_type": "stream",
     "text": [
      "\r",
      "Collecting datasets::  59%|██████████████▏         | 59/100 [14:19<10:16, 15.02s/it]"
     ]
    },
    {
     "name": "stderr",
     "output_type": "stream",
     "text": [
      "\r",
      "Collecting datasets::  60%|██████████████▍         | 60/100 [14:26<08:27, 12.70s/it]"
     ]
    },
    {
     "name": "stderr",
     "output_type": "stream",
     "text": [
      "\r",
      "Collecting datasets::  61%|██████████████▋         | 61/100 [14:40<08:34, 13.19s/it]"
     ]
    },
    {
     "name": "stderr",
     "output_type": "stream",
     "text": [
      "\r",
      "Collecting datasets::  62%|██████████████▉         | 62/100 [14:58<09:15, 14.62s/it]"
     ]
    },
    {
     "name": "stderr",
     "output_type": "stream",
     "text": [
      "\r",
      "Collecting datasets::  63%|███████████████         | 63/100 [15:17<09:42, 15.75s/it]"
     ]
    },
    {
     "name": "stderr",
     "output_type": "stream",
     "text": [
      "\r",
      "Collecting datasets::  64%|███████████████▎        | 64/100 [15:36<10:07, 16.87s/it]"
     ]
    },
    {
     "name": "stderr",
     "output_type": "stream",
     "text": [
      "\r",
      "Collecting datasets::  65%|███████████████▌        | 65/100 [15:53<09:48, 16.81s/it]"
     ]
    },
    {
     "name": "stderr",
     "output_type": "stream",
     "text": [
      "\r",
      "Collecting datasets::  66%|███████████████▊        | 66/100 [15:57<07:25, 13.09s/it]"
     ]
    },
    {
     "name": "stderr",
     "output_type": "stream",
     "text": [
      "\r",
      "Collecting datasets::  67%|████████████████        | 67/100 [15:59<05:21,  9.75s/it]"
     ]
    },
    {
     "name": "stderr",
     "output_type": "stream",
     "text": [
      "\r",
      "Collecting datasets::  68%|████████████████▎       | 68/100 [16:08<05:05,  9.53s/it]"
     ]
    },
    {
     "name": "stderr",
     "output_type": "stream",
     "text": [
      "\r",
      "Collecting datasets::  69%|████████████████▌       | 69/100 [16:25<06:05, 11.80s/it]"
     ]
    },
    {
     "name": "stderr",
     "output_type": "stream",
     "text": [
      "\r",
      "Collecting datasets::  70%|████████████████▊       | 70/100 [16:41<06:27, 12.92s/it]"
     ]
    },
    {
     "name": "stderr",
     "output_type": "stream",
     "text": [
      "\r",
      "Collecting datasets::  71%|█████████████████       | 71/100 [16:56<06:34, 13.60s/it]"
     ]
    },
    {
     "name": "stderr",
     "output_type": "stream",
     "text": [
      "\r",
      "Collecting datasets::  72%|█████████████████▎      | 72/100 [17:13<06:46, 14.53s/it]"
     ]
    },
    {
     "name": "stderr",
     "output_type": "stream",
     "text": [
      "\r",
      "Collecting datasets::  73%|█████████████████▌      | 73/100 [17:29<06:46, 15.07s/it]"
     ]
    },
    {
     "name": "stderr",
     "output_type": "stream",
     "text": [
      "\r",
      "Collecting datasets::  74%|█████████████████▊      | 74/100 [17:33<05:05, 11.74s/it]"
     ]
    },
    {
     "name": "stderr",
     "output_type": "stream",
     "text": [
      "\r",
      "Collecting datasets::  75%|██████████████████      | 75/100 [17:52<05:45, 13.82s/it]"
     ]
    },
    {
     "name": "stderr",
     "output_type": "stream",
     "text": [
      "\r",
      "Collecting datasets::  76%|██████████████████▏     | 76/100 [18:11<06:11, 15.46s/it]"
     ]
    },
    {
     "name": "stderr",
     "output_type": "stream",
     "text": [
      "\r",
      "Collecting datasets::  77%|██████████████████▍     | 77/100 [18:25<05:46, 15.06s/it]"
     ]
    },
    {
     "name": "stderr",
     "output_type": "stream",
     "text": [
      "\r",
      "Collecting datasets::  78%|██████████████████▋     | 78/100 [18:44<05:56, 16.21s/it]"
     ]
    },
    {
     "name": "stderr",
     "output_type": "stream",
     "text": [
      "\r",
      "Collecting datasets::  79%|██████████████████▉     | 79/100 [18:46<04:12, 12.00s/it]"
     ]
    },
    {
     "name": "stderr",
     "output_type": "stream",
     "text": [
      "\r",
      "Collecting datasets::  80%|███████████████████▏    | 80/100 [19:04<04:36, 13.84s/it]"
     ]
    },
    {
     "name": "stderr",
     "output_type": "stream",
     "text": [
      "\r",
      "Collecting datasets::  81%|███████████████████▍    | 81/100 [19:21<04:40, 14.76s/it]"
     ]
    },
    {
     "name": "stderr",
     "output_type": "stream",
     "text": [
      "\r",
      "Collecting datasets::  82%|███████████████████▋    | 82/100 [19:38<04:35, 15.30s/it]"
     ]
    },
    {
     "name": "stderr",
     "output_type": "stream",
     "text": [
      "\r",
      "Collecting datasets::  83%|███████████████████▉    | 83/100 [19:57<04:39, 16.46s/it]"
     ]
    },
    {
     "name": "stderr",
     "output_type": "stream",
     "text": [
      "\r",
      "Collecting datasets::  84%|████████████████████▏   | 84/100 [20:17<04:41, 17.59s/it]"
     ]
    },
    {
     "name": "stderr",
     "output_type": "stream",
     "text": [
      "\r",
      "Collecting datasets::  85%|████████████████████▍   | 85/100 [20:35<04:23, 17.58s/it]"
     ]
    },
    {
     "name": "stderr",
     "output_type": "stream",
     "text": [
      "\r",
      "Collecting datasets::  86%|████████████████████▋   | 86/100 [20:52<04:03, 17.37s/it]"
     ]
    },
    {
     "name": "stderr",
     "output_type": "stream",
     "text": [
      "\r",
      "Collecting datasets::  87%|████████████████████▉   | 87/100 [21:10<03:50, 17.72s/it]"
     ]
    },
    {
     "name": "stderr",
     "output_type": "stream",
     "text": [
      "\r",
      "Collecting datasets::  88%|█████████████████████   | 88/100 [21:15<02:47, 13.96s/it]"
     ]
    },
    {
     "name": "stderr",
     "output_type": "stream",
     "text": [
      "\r",
      "Collecting datasets::  89%|█████████████████████▎  | 89/100 [21:29<02:33, 13.93s/it]"
     ]
    },
    {
     "name": "stderr",
     "output_type": "stream",
     "text": [
      "\r",
      "Collecting datasets::  90%|█████████████████████▌  | 90/100 [21:47<02:30, 15.09s/it]"
     ]
    },
    {
     "name": "stderr",
     "output_type": "stream",
     "text": [
      "\r",
      "Collecting datasets::  91%|█████████████████████▊  | 91/100 [22:03<02:18, 15.39s/it]"
     ]
    },
    {
     "name": "stderr",
     "output_type": "stream",
     "text": [
      "\r",
      "Collecting datasets::  92%|██████████████████████  | 92/100 [22:20<02:08, 16.00s/it]"
     ]
    },
    {
     "name": "stderr",
     "output_type": "stream",
     "text": [
      "\r",
      "Collecting datasets::  93%|██████████████████████▎ | 93/100 [22:39<01:56, 16.70s/it]"
     ]
    },
    {
     "name": "stderr",
     "output_type": "stream",
     "text": [
      "\r",
      "Collecting datasets::  94%|██████████████████████▌ | 94/100 [22:59<01:47, 17.89s/it]"
     ]
    },
    {
     "name": "stderr",
     "output_type": "stream",
     "text": [
      "\r",
      "Collecting datasets::  95%|██████████████████████▊ | 95/100 [23:18<01:30, 18.14s/it]"
     ]
    },
    {
     "name": "stderr",
     "output_type": "stream",
     "text": [
      "\r",
      "Collecting datasets::  96%|███████████████████████ | 96/100 [23:22<00:55, 13.98s/it]"
     ]
    },
    {
     "name": "stderr",
     "output_type": "stream",
     "text": [
      "\r",
      "Collecting datasets::  97%|███████████████████████▎| 97/100 [23:40<00:45, 15.01s/it]"
     ]
    },
    {
     "name": "stderr",
     "output_type": "stream",
     "text": [
      "\r",
      "Collecting datasets::  98%|███████████████████████▌| 98/100 [24:03<00:35, 17.58s/it]"
     ]
    },
    {
     "name": "stderr",
     "output_type": "stream",
     "text": [
      "\r",
      "Collecting datasets::  99%|███████████████████████▊| 99/100 [24:25<00:18, 18.71s/it]"
     ]
    },
    {
     "name": "stderr",
     "output_type": "stream",
     "text": [
      "\r",
      "Collecting datasets:: 100%|███████████████████████| 100/100 [24:30<00:00, 14.64s/it]"
     ]
    },
    {
     "name": "stderr",
     "output_type": "stream",
     "text": [
      "\r",
      "Collecting datasets:: 100%|███████████████████████| 100/100 [24:30<00:00, 14.70s/it]"
     ]
    },
    {
     "name": "stderr",
     "output_type": "stream",
     "text": [
      "\n"
     ]
    }
   ],
   "source": [
    "perform_attack(orig_template, private_attr_sets)"
   ]
  }
 ],
 "metadata": {
  "kernelspec": {
   "display_name": "myenv",
   "language": "python",
   "name": "python3"
  },
  "language_info": {
   "codemirror_mode": {
    "name": "ipython",
    "version": 3
   },
   "file_extension": ".py",
   "mimetype": "text/x-python",
   "name": "python",
   "nbconvert_exporter": "python",
   "pygments_lexer": "ipython3",
   "version": "3.11.10"
  }
 },
 "nbformat": 4,
 "nbformat_minor": 2
}
